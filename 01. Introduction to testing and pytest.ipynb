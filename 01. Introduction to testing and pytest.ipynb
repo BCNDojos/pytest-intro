{
 "cells": [
  {
   "cell_type": "markdown",
   "metadata": {
    "slideshow": {
     "slide_type": "slide"
    }
   },
   "source": [
    "# Introduction to testing and py.test"
   ]
  },
  {
   "cell_type": "markdown",
   "metadata": {},
   "source": [
    "## http://github.com/BCNDojos/pytest-intro"
   ]
  },
  {
   "cell_type": "markdown",
   "metadata": {
    "slideshow": {
     "slide_type": "skip"
    }
   },
   "source": [
    "This notebook is intended to introduce a practice session on testing and py.test."
   ]
  },
  {
   "cell_type": "markdown",
   "metadata": {
    "slideshow": {
     "slide_type": "subslide"
    }
   },
   "source": [
    "## Testing, TDD, and other stuff"
   ]
  },
  {
   "cell_type": "markdown",
   "metadata": {},
   "source": [
    "* Testing is to guarantee a software works as expected\n",
    "* This session is about **unit testing**\n",
    "* Testing versus TDD\n",
    "* Mocking"
   ]
  },
  {
   "cell_type": "markdown",
   "metadata": {
    "slideshow": {
     "slide_type": "subslide"
    }
   },
   "source": [
    "## Testing in Python"
   ]
  },
  {
   "cell_type": "code",
   "execution_count": 1,
   "metadata": {
    "collapsed": false
   },
   "outputs": [],
   "source": [
    "a = 1\n",
    "b = 2\n",
    "assert(a == 1)"
   ]
  },
  {
   "cell_type": "code",
   "execution_count": 2,
   "metadata": {
    "collapsed": false
   },
   "outputs": [
    {
     "ename": "AssertionError",
     "evalue": "",
     "output_type": "error",
     "traceback": [
      "\u001b[0;31m---------------------------------------------------------------------------\u001b[0m",
      "\u001b[0;31mAssertionError\u001b[0m                            Traceback (most recent call last)",
      "\u001b[0;32m<ipython-input-2-8945512e667a>\u001b[0m in \u001b[0;36m<module>\u001b[0;34m()\u001b[0m\n\u001b[0;32m----> 1\u001b[0;31m \u001b[0;32massert\u001b[0m\u001b[0;34m(\u001b[0m\u001b[0mb\u001b[0m \u001b[0;34m==\u001b[0m \u001b[0ma\u001b[0m\u001b[0;34m)\u001b[0m\u001b[0;34m\u001b[0m\u001b[0m\n\u001b[0m",
      "\u001b[0;31mAssertionError\u001b[0m: "
     ]
    }
   ],
   "source": [
    "assert(b == a)"
   ]
  },
  {
   "cell_type": "markdown",
   "metadata": {
    "slideshow": {
     "slide_type": "subslide"
    }
   },
   "source": [
    "## About py.test"
   ]
  },
  {
   "cell_type": "markdown",
   "metadata": {},
   "source": [
    "* Created by [Holger Krekel](https://twitter.com/hpk42)\n",
    "* Very pythonic, based in `assert`\n",
    "* Integrates with other testing libraries in Python, like nosetest, unittest, ...\n",
    "* Include many features, like mocking, test detection, fixtures, parametrization, ..."
   ]
  },
  {
   "cell_type": "markdown",
   "metadata": {
    "slideshow": {
     "slide_type": "subslide"
    }
   },
   "source": [
    "## Using py.test in a project"
   ]
  },
  {
   "cell_type": "markdown",
   "metadata": {},
   "source": [
    "Summarizing, py.test will detect all tests according to:\n",
    "\n",
    "* files are called `test_*.py`\n",
    "* functions are called `test_*`\n",
    "* classes are called `Test*`, running methods called `test_*`"
   ]
  },
  {
   "cell_type": "markdown",
   "metadata": {
    "slideshow": {
     "slide_type": "slide"
    }
   },
   "source": [
    " ## Example"
   ]
  },
  {
   "cell_type": "code",
   "execution_count": 3,
   "metadata": {
    "collapsed": false,
    "slideshow": {
     "slide_type": "skip"
    }
   },
   "outputs": [
    {
     "name": "stderr",
     "output_type": "stream",
     "text": [
      "rm: *example*: No such file or directory\n"
     ]
    }
   ],
   "source": [
    "%%bash\n",
    "rm *example*"
   ]
  },
  {
   "cell_type": "code",
   "execution_count": 4,
   "metadata": {
    "collapsed": false
   },
   "outputs": [
    {
     "name": "stdout",
     "output_type": "stream",
     "text": [
      "Writing division_example.py\n"
     ]
    }
   ],
   "source": [
    "%%writefile division_example.py\n",
    "def divide(x, y):\n",
    "    pass"
   ]
  },
  {
   "cell_type": "code",
   "execution_count": 5,
   "metadata": {
    "collapsed": false,
    "slideshow": {
     "slide_type": "fragment"
    }
   },
   "outputs": [
    {
     "name": "stdout",
     "output_type": "stream",
     "text": [
      "Writing test_division_example.py\n"
     ]
    }
   ],
   "source": [
    "%%writefile test_division_example.py\n",
    "from division_example import divide\n",
    "\n",
    "def test_something_right():\n",
    "    assert divide(42, 1) == 42"
   ]
  },
  {
   "cell_type": "code",
   "execution_count": 6,
   "metadata": {
    "collapsed": false,
    "scrolled": true,
    "slideshow": {
     "slide_type": "subslide"
    }
   },
   "outputs": [
    {
     "name": "stdout",
     "output_type": "stream",
     "text": [
      "====================================================== test session starts =======================================================\n",
      "platform darwin -- Python 3.4.4, pytest-2.9.1, py-1.4.31, pluggy-0.3.1\n",
      "rootdir: /Users/ifosch/src/github.com/BCNDojos/pytest-intro, inifile: \n",
      "collected 1 items\n",
      "\n",
      "test_division_example.py F\n",
      "\n",
      "============================================================ FAILURES ============================================================\n",
      "______________________________________________________ test_something_right ______________________________________________________\n",
      "\n",
      "    def test_something_right():\n",
      ">       assert divide(42, 1) == 42\n",
      "E       assert None == 42\n",
      "E        +  where None = divide(42, 1)\n",
      "\n",
      "test_division_example.py:4: AssertionError\n",
      "==================================================== 1 failed in 0.01 seconds ====================================================\n"
     ]
    }
   ],
   "source": [
    "%%bash\n",
    "py.test test_division_example.py"
   ]
  },
  {
   "cell_type": "code",
   "execution_count": 7,
   "metadata": {
    "collapsed": false
   },
   "outputs": [
    {
     "name": "stdout",
     "output_type": "stream",
     "text": [
      "Overwriting division_example.py\n"
     ]
    }
   ],
   "source": [
    "%%writefile division_example.py\n",
    "def divide(x, y):\n",
    "    return x / y"
   ]
  },
  {
   "cell_type": "code",
   "execution_count": 8,
   "metadata": {
    "collapsed": false,
    "slideshow": {
     "slide_type": "subslide"
    }
   },
   "outputs": [
    {
     "name": "stdout",
     "output_type": "stream",
     "text": [
      "====================================================== test session starts =======================================================\n",
      "platform darwin -- Python 3.4.4, pytest-2.9.1, py-1.4.31, pluggy-0.3.1\n",
      "rootdir: /Users/ifosch/src/github.com/BCNDojos/pytest-intro, inifile: \n",
      "collected 1 items\n",
      "\n",
      "test_division_example.py .\n",
      "\n",
      "==================================================== 1 passed in 0.00 seconds ====================================================\n"
     ]
    }
   ],
   "source": [
    "%%bash\n",
    "py.test test_division_example.py"
   ]
  },
  {
   "cell_type": "markdown",
   "metadata": {
    "slideshow": {
     "slide_type": "slide"
    }
   },
   "source": [
    "## Testing exception raising"
   ]
  },
  {
   "cell_type": "code",
   "execution_count": 9,
   "metadata": {
    "collapsed": false,
    "slideshow": {
     "slide_type": "-"
    }
   },
   "outputs": [
    {
     "name": "stdout",
     "output_type": "stream",
     "text": [
      "Overwriting test_division_example.py\n"
     ]
    }
   ],
   "source": [
    "%%writefile test_division_example.py\n",
    "import pytest\n",
    "from division_example import divide\n",
    "\n",
    "def test_something_right():\n",
    "    assert divide(42, 1) == 42\n",
    "\n",
    "def test_raises():\n",
    "    with pytest.raises(ZeroDivisionError):\n",
    "        divide(3, 0)"
   ]
  },
  {
   "cell_type": "code",
   "execution_count": 10,
   "metadata": {
    "collapsed": false,
    "slideshow": {
     "slide_type": "subslide"
    }
   },
   "outputs": [
    {
     "name": "stdout",
     "output_type": "stream",
     "text": [
      "====================================================== test session starts =======================================================\n",
      "platform darwin -- Python 3.4.4, pytest-2.9.1, py-1.4.31, pluggy-0.3.1\n",
      "rootdir: /Users/ifosch/src/github.com/BCNDojos/pytest-intro, inifile: \n",
      "collected 2 items\n",
      "\n",
      "test_division_example.py ..\n",
      "\n",
      "==================================================== 2 passed in 0.01 seconds ====================================================\n"
     ]
    }
   ],
   "source": [
    "%%bash\n",
    "py.test test_division_example.py"
   ]
  },
  {
   "cell_type": "markdown",
   "metadata": {
    "slideshow": {
     "slide_type": "slide"
    }
   },
   "source": [
    "## Parametrize"
   ]
  },
  {
   "cell_type": "code",
   "execution_count": 11,
   "metadata": {
    "collapsed": false
   },
   "outputs": [
    {
     "name": "stdout",
     "output_type": "stream",
     "text": [
      "Writing test_param_division_example.py\n"
     ]
    }
   ],
   "source": [
    "%%writefile test_param_division_example.py\n",
    "import pytest\n",
    "from division_example import divide\n",
    "\n",
    "@pytest.mark.parametrize(\"a\", [1, 2, 3, 4])\n",
    "def test_division_param(a):\n",
    "    assert divide(a, 1) == a"
   ]
  },
  {
   "cell_type": "code",
   "execution_count": 12,
   "metadata": {
    "collapsed": false,
    "scrolled": true,
    "slideshow": {
     "slide_type": "subslide"
    }
   },
   "outputs": [
    {
     "name": "stdout",
     "output_type": "stream",
     "text": [
      "====================================================== test session starts =======================================================\n",
      "platform darwin -- Python 3.4.4, pytest-2.9.1, py-1.4.31, pluggy-0.3.1\n",
      "rootdir: /Users/ifosch/src/github.com/BCNDojos/pytest-intro, inifile: \n",
      "collected 4 items\n",
      "\n",
      "test_param_division_example.py ....\n",
      "\n",
      "==================================================== 4 passed in 0.01 seconds ====================================================\n"
     ]
    }
   ],
   "source": [
    "%%bash\n",
    "py.test test_param_division_example.py"
   ]
  },
  {
   "cell_type": "code",
   "execution_count": 13,
   "metadata": {
    "collapsed": false
   },
   "outputs": [
    {
     "name": "stdout",
     "output_type": "stream",
     "text": [
      "Overwriting test_param_division_example.py\n"
     ]
    }
   ],
   "source": [
    "%%writefile test_param_division_example.py\n",
    "import pytest\n",
    "from division_example import divide\n",
    "\n",
    "@pytest.mark.parametrize(\"a\", [1, 2, 3, 4])\n",
    "def test_division_param(a):\n",
    "    assert divide(a, 1) == a\n",
    "\n",
    "@pytest.mark.parametrize(\"a\", [(10, 2, 5), (100, 10, 10)])\n",
    "def test_division_param_tuple(a):\n",
    "    assert divide(a[0], a[1]) == a[2]"
   ]
  },
  {
   "cell_type": "code",
   "execution_count": 14,
   "metadata": {
    "collapsed": false,
    "scrolled": true,
    "slideshow": {
     "slide_type": "subslide"
    }
   },
   "outputs": [
    {
     "name": "stdout",
     "output_type": "stream",
     "text": [
      "====================================================== test session starts =======================================================\n",
      "platform darwin -- Python 3.4.4, pytest-2.9.1, py-1.4.31, pluggy-0.3.1\n",
      "rootdir: /Users/ifosch/src/github.com/BCNDojos/pytest-intro, inifile: \n",
      "collected 6 items\n",
      "\n",
      "test_param_division_example.py ......\n",
      "\n",
      "==================================================== 6 passed in 0.01 seconds ====================================================\n"
     ]
    }
   ],
   "source": [
    "%%bash\n",
    "py.test test_param_division_example.py"
   ]
  },
  {
   "cell_type": "markdown",
   "metadata": {
    "slideshow": {
     "slide_type": "slide"
    }
   },
   "source": [
    "## Monkeypatching"
   ]
  },
  {
   "cell_type": "code",
   "execution_count": 15,
   "metadata": {
    "collapsed": false
   },
   "outputs": [
    {
     "name": "stdout",
     "output_type": "stream",
     "text": [
      "Writing env_reader_example.py\n"
     ]
    }
   ],
   "source": [
    "%%writefile env_reader_example.py\n",
    "import os\n",
    "\n",
    "def get_user():\n",
    "    return os.environ['USER']"
   ]
  },
  {
   "cell_type": "code",
   "execution_count": 16,
   "metadata": {
    "collapsed": false,
    "slideshow": {
     "slide_type": "fragment"
    }
   },
   "outputs": [
    {
     "name": "stdout",
     "output_type": "stream",
     "text": [
      "ifosch\n"
     ]
    }
   ],
   "source": [
    "from env_reader_example import get_user\n",
    "\n",
    "print(get_user())"
   ]
  },
  {
   "cell_type": "code",
   "execution_count": 17,
   "metadata": {
    "collapsed": false,
    "slideshow": {
     "slide_type": "subslide"
    }
   },
   "outputs": [
    {
     "name": "stdout",
     "output_type": "stream",
     "text": [
      "Writing test_env_reader_example.py\n"
     ]
    }
   ],
   "source": [
    "%%writefile test_env_reader_example.py\n",
    "import os\n",
    "from env_reader_example import get_user\n",
    "\n",
    "def test_get_user():\n",
    "    old = os.environ['USER']\n",
    "    os.environ['USER'] = 'root'\n",
    "    try:\n",
    "        user = get_user()\n",
    "        assert user == 'root'\n",
    "    finally:\n",
    "        os.environ['USER'] = old"
   ]
  },
  {
   "cell_type": "code",
   "execution_count": 18,
   "metadata": {
    "collapsed": false,
    "scrolled": false,
    "slideshow": {
     "slide_type": "subslide"
    }
   },
   "outputs": [
    {
     "name": "stdout",
     "output_type": "stream",
     "text": [
      "====================================================== test session starts =======================================================\n",
      "platform darwin -- Python 3.4.4, pytest-2.9.1, py-1.4.31, pluggy-0.3.1\n",
      "rootdir: /Users/ifosch/src/github.com/BCNDojos/pytest-intro, inifile: \n",
      "collected 1 items\n",
      "\n",
      "test_env_reader_example.py .\n",
      "\n",
      "==================================================== 1 passed in 0.00 seconds ====================================================\n"
     ]
    }
   ],
   "source": [
    "%%bash\n",
    "py.test test_env_reader_example.py"
   ]
  },
  {
   "cell_type": "code",
   "execution_count": 19,
   "metadata": {
    "collapsed": false,
    "slideshow": {
     "slide_type": "fragment"
    }
   },
   "outputs": [
    {
     "name": "stdout",
     "output_type": "stream",
     "text": [
      "ifosch\n"
     ]
    }
   ],
   "source": [
    "from env_reader_example import get_user\n",
    "\n",
    "print(get_user())"
   ]
  },
  {
   "cell_type": "markdown",
   "metadata": {},
   "source": [
    "### Using old-style JUnit tests"
   ]
  },
  {
   "cell_type": "code",
   "execution_count": 20,
   "metadata": {
    "collapsed": false,
    "slideshow": {
     "slide_type": "subslide"
    }
   },
   "outputs": [
    {
     "name": "stdout",
     "output_type": "stream",
     "text": [
      "Overwriting test_env_reader_example.py\n"
     ]
    }
   ],
   "source": [
    "%%writefile test_env_reader_example.py\n",
    "import os\n",
    "from env_reader_example import get_user\n",
    "\n",
    "class TestGetUser:\n",
    "    def setup_method(self, method):\n",
    "        self._oldenv = os.environ.copy()\n",
    " \n",
    "    def teardown_method(self, method):\n",
    "        os.environ.clear()\n",
    "        os.environ.update(self._oldenv)\n",
    " \n",
    "    def test_envreading(self):\n",
    "        os.environ['USER'] = \"root\"\n",
    "        user = get_user()\n",
    "        assert user == \"root\""
   ]
  },
  {
   "cell_type": "code",
   "execution_count": 21,
   "metadata": {
    "collapsed": false,
    "scrolled": true,
    "slideshow": {
     "slide_type": "subslide"
    }
   },
   "outputs": [
    {
     "name": "stdout",
     "output_type": "stream",
     "text": [
      "====================================================== test session starts =======================================================\n",
      "platform darwin -- Python 3.4.4, pytest-2.9.1, py-1.4.31, pluggy-0.3.1\n",
      "rootdir: /Users/ifosch/src/github.com/BCNDojos/pytest-intro, inifile: \n",
      "collected 1 items\n",
      "\n",
      "test_env_reader_example.py .\n",
      "\n",
      "==================================================== 1 passed in 0.01 seconds ====================================================\n"
     ]
    }
   ],
   "source": [
    "%%bash\n",
    "py.test test_env_reader_example.py"
   ]
  },
  {
   "cell_type": "code",
   "execution_count": 22,
   "metadata": {
    "collapsed": false,
    "slideshow": {
     "slide_type": "fragment"
    }
   },
   "outputs": [
    {
     "name": "stdout",
     "output_type": "stream",
     "text": [
      "ifosch\n"
     ]
    }
   ],
   "source": [
    "from env_reader_example import get_user\n",
    "\n",
    "print(get_user())"
   ]
  },
  {
   "cell_type": "markdown",
   "metadata": {},
   "source": [
    "### Well-done py.test monkeypatching"
   ]
  },
  {
   "cell_type": "code",
   "execution_count": 23,
   "metadata": {
    "collapsed": false,
    "slideshow": {
     "slide_type": "subslide"
    }
   },
   "outputs": [
    {
     "name": "stdout",
     "output_type": "stream",
     "text": [
      "Overwriting test_env_reader_example.py\n"
     ]
    }
   ],
   "source": [
    "%%writefile test_env_reader_example.py\n",
    "import os\n",
    "from env_reader_example import get_user\n",
    "\n",
    "def test_get_user(monkeypatch):\n",
    "    monkeypatch.setitem(os.environ, 'USER', 'root')\n",
    "    user = get_user()\n",
    "    assert user == \"root\""
   ]
  },
  {
   "cell_type": "code",
   "execution_count": 24,
   "metadata": {
    "collapsed": false,
    "scrolled": true,
    "slideshow": {
     "slide_type": "subslide"
    }
   },
   "outputs": [
    {
     "name": "stdout",
     "output_type": "stream",
     "text": [
      "====================================================== test session starts =======================================================\n",
      "platform darwin -- Python 3.4.4, pytest-2.9.1, py-1.4.31, pluggy-0.3.1\n",
      "rootdir: /Users/ifosch/src/github.com/BCNDojos/pytest-intro, inifile: \n",
      "collected 1 items\n",
      "\n",
      "test_env_reader_example.py .\n",
      "\n",
      "==================================================== 1 passed in 0.01 seconds ====================================================\n"
     ]
    }
   ],
   "source": [
    "%%bash\n",
    "py.test test_env_reader_example.py"
   ]
  },
  {
   "cell_type": "code",
   "execution_count": 25,
   "metadata": {
    "collapsed": false,
    "slideshow": {
     "slide_type": "fragment"
    }
   },
   "outputs": [
    {
     "name": "stdout",
     "output_type": "stream",
     "text": [
      "ifosch\n"
     ]
    }
   ],
   "source": [
    "from env_reader_example import get_user\n",
    "\n",
    "print(get_user())"
   ]
  },
  {
   "cell_type": "markdown",
   "metadata": {
    "slideshow": {
     "slide_type": "slide"
    }
   },
   "source": [
    "## Monkeypatching (or mocking) other stuff"
   ]
  },
  {
   "cell_type": "markdown",
   "metadata": {
    "slideshow": {
     "slide_type": "-"
    }
   },
   "source": [
    "### Creating an example sqlite3 database"
   ]
  },
  {
   "cell_type": "code",
   "execution_count": 26,
   "metadata": {
    "collapsed": false
   },
   "outputs": [
    {
     "name": "stdout",
     "output_type": "stream",
     "text": [
      "Writing gen_database.py\n"
     ]
    }
   ],
   "source": [
    "%%writefile gen_database.py\n",
    "import sqlite3\n",
    "\n",
    "conn = sqlite3.connect('example.db')\n",
    "c = conn.cursor()\n",
    "c.execute('''CREATE TABLE stocks ( date text, symbol text, qty real, price real)''')\n",
    "c.execute(\"INSERT INTO stocks VALUES ('2006-01-05','RHAT',100,35.14)\")\n",
    "purchases = [('2006-01-05','RHAT',100,35.14),\n",
    "             ('2006-03-28', 'IBM', 1000, 45.00),\n",
    "             ('2006-04-05', 'MSFT', 1000, 72.00),\n",
    "             ('2006-04-06', 'IBM3', 500, 53.00),\n",
    "            ]\n",
    "c.executemany('INSERT INTO stocks VALUES (?,?,?,?)', purchases)\n",
    "conn.commit()\n",
    "conn.close()"
   ]
  },
  {
   "cell_type": "code",
   "execution_count": 27,
   "metadata": {
    "collapsed": false,
    "slideshow": {
     "slide_type": "-"
    }
   },
   "outputs": [],
   "source": [
    "%%bash\n",
    "python gen_database.py"
   ]
  },
  {
   "cell_type": "markdown",
   "metadata": {
    "slideshow": {
     "slide_type": "subslide"
    }
   },
   "source": [
    "### Usage of the database"
   ]
  },
  {
   "cell_type": "code",
   "execution_count": 28,
   "metadata": {
    "collapsed": false,
    "slideshow": {
     "slide_type": "-"
    }
   },
   "outputs": [
    {
     "name": "stdout",
     "output_type": "stream",
     "text": [
      "('2006-01-05', 'RHAT', 100.0, 35.14)\n"
     ]
    }
   ],
   "source": [
    "import sqlite3\n",
    "conn = sqlite3.connect('example.db')\n",
    "c = conn.cursor()\n",
    "t = ('RHAT',)\n",
    "c.execute('SELECT * FROM stocks WHERE symbol=?', t)\n",
    "print(c.fetchone())\n",
    "conn.close()"
   ]
  },
  {
   "cell_type": "code",
   "execution_count": 29,
   "metadata": {
    "collapsed": false,
    "slideshow": {
     "slide_type": "subslide"
    }
   },
   "outputs": [
    {
     "name": "stdout",
     "output_type": "stream",
     "text": [
      "[('2006-01-05', 'RHAT', 100.0, 35.14), ('2006-01-05', 'RHAT', 100.0, 35.14), ('2006-03-28', 'IBM', 1000.0, 45.0), ('2006-04-05', 'MSFT', 1000.0, 72.0), ('2006-04-06', 'IBM3', 500.0, 53.0)]\n"
     ]
    }
   ],
   "source": [
    "conn = sqlite3.connect('example.db')\n",
    "c = conn.cursor()\n",
    "c.execute('SELECT * FROM stocks')\n",
    "print(c.fetchall())\n",
    "conn.close()"
   ]
  },
  {
   "cell_type": "markdown",
   "metadata": {
    "slideshow": {
     "slide_type": "subslide"
    }
   },
   "source": [
    "### Code for our database"
   ]
  },
  {
   "cell_type": "code",
   "execution_count": 30,
   "metadata": {
    "collapsed": false,
    "slideshow": {
     "slide_type": "-"
    }
   },
   "outputs": [
    {
     "name": "stdout",
     "output_type": "stream",
     "text": [
      "Writing data_example.py\n"
     ]
    }
   ],
   "source": [
    "%%writefile data_example.py\n",
    "import sqlite3\n",
    "\n",
    "def get_total():\n",
    "    conn = sqlite3.connect('example.db')\n",
    "    c = conn.cursor()\n",
    "    c.execute('SELECT * FROM stocks')\n",
    "    total = 0\n",
    "    for item in c.fetchall():\n",
    "        total += item[2] * item[3]\n",
    "    return total"
   ]
  },
  {
   "cell_type": "code",
   "execution_count": 31,
   "metadata": {
    "collapsed": false,
    "slideshow": {
     "slide_type": "fragment"
    }
   },
   "outputs": [
    {
     "name": "stdout",
     "output_type": "stream",
     "text": [
      "150528.0\n"
     ]
    }
   ],
   "source": [
    "from data_example import get_total\n",
    "\n",
    "print(get_total())"
   ]
  },
  {
   "cell_type": "markdown",
   "metadata": {
    "slideshow": {
     "slide_type": "subslide"
    }
   },
   "source": [
    "### Test for our code"
   ]
  },
  {
   "cell_type": "markdown",
   "metadata": {
    "collapsed": false,
    "slideshow": {
     "slide_type": "-"
    }
   },
   "source": [
    "    import sqlite3\n",
    "    from data_example import get_total\n",
    "\n",
    "    class FakeConn():\n",
    "        def cursor(self):\n",
    "            return FakeCursor()"
   ]
  },
  {
   "cell_type": "markdown",
   "metadata": {
    "collapsed": false,
    "slideshow": {
     "slide_type": "subslide"
    }
   },
   "source": [
    "    class FakeCursor():\n",
    "        def execute(self, query):\n",
    "            pass\n",
    "\n",
    "        def fetchall(self):\n",
    "            return  [\n",
    "                        ('2006-01-05', 'RHAT', 1.0, 10.0),\n",
    "                        ('2006-03-28', 'IBM', 1.0, 10.0),\n",
    "                        ('2006-04-05', 'MSFT', 1.0, 10.0),\n",
    "                        ('2006-04-06', 'IBM3', 1.0, 10.0)\n",
    "                    ]"
   ]
  },
  {
   "cell_type": "markdown",
   "metadata": {
    "collapsed": false,
    "slideshow": {
     "slide_type": "subslide"
    }
   },
   "source": [
    "    def test_get_total(monkeypatch):\n",
    "        def mock_conn(file_name):\n",
    "            return FakeConn()\n",
    "        monkeypatch.setattr(sqlite3, 'connect', mock_conn)\n",
    "        total = get_total()\n",
    "        assert total == 40.0"
   ]
  },
  {
   "cell_type": "code",
   "execution_count": 32,
   "metadata": {
    "collapsed": false,
    "slideshow": {
     "slide_type": "skip"
    }
   },
   "outputs": [
    {
     "name": "stdout",
     "output_type": "stream",
     "text": [
      "Writing test_data_example.py\n"
     ]
    }
   ],
   "source": [
    "%%writefile test_data_example.py\n",
    "import sqlite3\n",
    "from data_example import get_total\n",
    "\n",
    "class FakeConn():\n",
    "    def cursor(self):\n",
    "        return FakeCursor()\n",
    "\n",
    "class FakeCursor():\n",
    "    def execute(self, query):\n",
    "        pass\n",
    "    \n",
    "    def fetchall(self):\n",
    "        return  [\n",
    "                    ('2006-01-05', 'RHAT', 1.0, 10.0),\n",
    "                    ('2006-03-28', 'IBM', 1.0, 10.0),\n",
    "                    ('2006-04-05', 'MSFT', 1.0, 10.0),\n",
    "                    ('2006-04-06', 'IBM3', 1.0, 10.0)\n",
    "                ]\n",
    "\n",
    "def test_get_total(monkeypatch):\n",
    "    def mock_conn(file_name):\n",
    "        return FakeConn()\n",
    "    monkeypatch.setattr(sqlite3, 'connect', mock_conn)\n",
    "    total = get_total()\n",
    "    assert total == 40.0"
   ]
  },
  {
   "cell_type": "code",
   "execution_count": 33,
   "metadata": {
    "collapsed": false,
    "scrolled": true,
    "slideshow": {
     "slide_type": "subslide"
    }
   },
   "outputs": [
    {
     "name": "stdout",
     "output_type": "stream",
     "text": [
      "====================================================== test session starts =======================================================\n",
      "platform darwin -- Python 3.4.4, pytest-2.9.1, py-1.4.31, pluggy-0.3.1\n",
      "rootdir: /Users/ifosch/src/github.com/BCNDojos/pytest-intro, inifile: \n",
      "collected 1 items\n",
      "\n",
      "test_data_example.py .\n",
      "\n",
      "==================================================== 1 passed in 0.01 seconds ====================================================\n"
     ]
    }
   ],
   "source": [
    "%%bash\n",
    "py.test test_data_example.py"
   ]
  },
  {
   "cell_type": "markdown",
   "metadata": {
    "slideshow": {
     "slide_type": "slide"
    }
   },
   "source": [
    "## Basic mocking of I/O"
   ]
  },
  {
   "cell_type": "code",
   "execution_count": 34,
   "metadata": {
    "collapsed": false
   },
   "outputs": [
    {
     "name": "stdout",
     "output_type": "stream",
     "text": [
      "Writing user_input_example.py\n"
     ]
    }
   ],
   "source": [
    "%%writefile user_input_example.py\n",
    "\n",
    "def salute():\n",
    "    name = input(\"What is your name? \")\n",
    "    return 'Hello, {}'.format(name)\n",
    "\n",
    "if __name__ == '__main__':\n",
    "    print(salute())"
   ]
  },
  {
   "cell_type": "code",
   "execution_count": 35,
   "metadata": {
    "collapsed": false,
    "slideshow": {
     "slide_type": "subslide"
    }
   },
   "outputs": [
    {
     "name": "stdout",
     "output_type": "stream",
     "text": [
      "Writing test_user_input_example.py\n"
     ]
    }
   ],
   "source": [
    "%%writefile test_user_input_example.py\n",
    "from user_input_example import salute\n",
    "\n",
    "def mock_input(message):\n",
    "    return 'Mark'\n",
    "\n",
    "def test_user_input(monkeypatch):\n",
    "    monkeypatch.setitem(__builtins__, 'input', mock_input)\n",
    "    message = salute()\n",
    "    assert message == \"Hello, Mark\""
   ]
  },
  {
   "cell_type": "code",
   "execution_count": 36,
   "metadata": {
    "collapsed": false,
    "slideshow": {
     "slide_type": "subslide"
    }
   },
   "outputs": [
    {
     "name": "stdout",
     "output_type": "stream",
     "text": [
      "====================================================== test session starts =======================================================\n",
      "platform darwin -- Python 3.4.4, pytest-2.9.1, py-1.4.31, pluggy-0.3.1\n",
      "rootdir: /Users/ifosch/src/github.com/BCNDojos/pytest-intro, inifile: \n",
      "collected 1 items\n",
      "\n",
      "test_user_input_example.py .\n",
      "\n",
      "==================================================== 1 passed in 0.01 seconds ====================================================\n"
     ]
    }
   ],
   "source": [
    "%%bash\n",
    "py.test test_user_input_example.py"
   ]
  },
  {
   "cell_type": "code",
   "execution_count": 37,
   "metadata": {
    "collapsed": false,
    "slideshow": {
     "slide_type": "subslide"
    }
   },
   "outputs": [
    {
     "name": "stdout",
     "output_type": "stream",
     "text": [
      "Overwriting user_input_example.py\n"
     ]
    }
   ],
   "source": [
    "%%writefile user_input_example.py\n",
    "\n",
    "def salute():\n",
    "    name = input(\"What is your name? \")\n",
    "    return 'Hello, {}'.format(name)\n",
    "\n",
    "def print_salute():\n",
    "    print(salute())\n",
    "\n",
    "if __name__ == '__main__':\n",
    "    print_salute()"
   ]
  },
  {
   "cell_type": "code",
   "execution_count": 38,
   "metadata": {
    "collapsed": false,
    "slideshow": {
     "slide_type": "subslide"
    }
   },
   "outputs": [
    {
     "name": "stdout",
     "output_type": "stream",
     "text": [
      "Overwriting test_user_input_example.py\n"
     ]
    }
   ],
   "source": [
    "%%writefile test_user_input_example.py\n",
    "from user_input_example import salute, print_salute\n",
    "\n",
    "def mock_input(message):\n",
    "    return 'Mark'\n",
    "\n",
    "def test_user_input(monkeypatch, capsys):\n",
    "    monkeypatch.setitem(__builtins__, 'input', mock_input)\n",
    "    message = salute()\n",
    "    assert message == \"Hello, Mark\"\n",
    "    print_salute()\n",
    "    out, err = capsys.readouterr()\n",
    "    assert out == \"Hello, Mark\\n\""
   ]
  },
  {
   "cell_type": "code",
   "execution_count": 39,
   "metadata": {
    "collapsed": false,
    "scrolled": true,
    "slideshow": {
     "slide_type": "subslide"
    }
   },
   "outputs": [
    {
     "name": "stdout",
     "output_type": "stream",
     "text": [
      "====================================================== test session starts =======================================================\n",
      "platform darwin -- Python 3.4.4, pytest-2.9.1, py-1.4.31, pluggy-0.3.1\n",
      "rootdir: /Users/ifosch/src/github.com/BCNDojos/pytest-intro, inifile: \n",
      "collected 1 items\n",
      "\n",
      "test_user_input_example.py .\n",
      "\n",
      "==================================================== 1 passed in 0.01 seconds ====================================================\n"
     ]
    }
   ],
   "source": [
    "%%bash\n",
    "py.test test_user_input_example.py"
   ]
  },
  {
   "cell_type": "markdown",
   "metadata": {
    "slideshow": {
     "slide_type": "slide"
    }
   },
   "source": [
    "## Time enough for an exercise?"
   ]
  },
  {
   "cell_type": "markdown",
   "metadata": {},
   "source": [
    "Let's make groups of two or three to develop a layered application in parallel, so the group will work in two different modules.\n",
    "\n",
    "A half of the group will implement a Python module, let's call it `data` that reads from the database and gets stock price at a user specified date.\n",
    "\n",
    "The other half will implement a text interface program that will ask for a date until it gets an EOF, and will use this date to get the value from the previous module.\n",
    "\n",
    "Notice date is treated as a text in the database, and this is not the subject of this session, so no need to format dates, let's just consider user input is right.\n",
    "\n",
    "In both cases, the trick is in to implement tests implementing appropriate mocking of whatever is required."
   ]
  }
 ],
 "metadata": {
  "celltoolbar": "Slideshow",
  "kernelspec": {
   "display_name": "Python 3",
   "language": "python",
   "name": "python3"
  },
  "language_info": {
   "codemirror_mode": {
    "name": "ipython",
    "version": 3
   },
   "file_extension": ".py",
   "mimetype": "text/x-python",
   "name": "python",
   "nbconvert_exporter": "python",
   "pygments_lexer": "ipython3",
   "version": "3.4.4"
  }
 },
 "nbformat": 4,
 "nbformat_minor": 0
}
